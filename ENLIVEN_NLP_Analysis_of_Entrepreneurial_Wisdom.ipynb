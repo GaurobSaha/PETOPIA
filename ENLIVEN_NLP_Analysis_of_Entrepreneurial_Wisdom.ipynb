{
  "nbformat": 4,
  "nbformat_minor": 0,
  "metadata": {
    "colab": {
      "provenance": [],
      "include_colab_link": true
    },
    "kernelspec": {
      "name": "python3",
      "display_name": "Python 3"
    },
    "language_info": {
      "name": "python"
    }
  },
  "cells": [
    {
      "cell_type": "markdown",
      "metadata": {
        "id": "view-in-github",
        "colab_type": "text"
      },
      "source": [
        "<a href=\"https://colab.research.google.com/github/GaurobSaha/PETOPIA/blob/master/ENLIVEN_NLP_Analysis_of_Entrepreneurial_Wisdom.ipynb\" target=\"_parent\"><img src=\"https://colab.research.google.com/assets/colab-badge.svg\" alt=\"Open In Colab\"/></a>"
      ]
    },
    {
      "cell_type": "markdown",
      "source": [
        "What do you consider your most valuable asset, the thing that enabled you to make it?\n"
      ],
      "metadata": {
        "id": "Wlzv_-7-RFza"
      }
    },
    {
      "cell_type": "code",
      "execution_count": 1,
      "metadata": {
        "colab": {
          "base_uri": "https://localhost:8080/"
        },
        "id": "BAVR0nYXxZ31",
        "outputId": "07d42fed-f15b-4a62-851c-1ab783613c9b"
      },
      "outputs": [
        {
          "output_type": "stream",
          "name": "stdout",
          "text": [
            "Collecting python-docx\n",
            "  Downloading python_docx-1.1.0-py3-none-any.whl (239 kB)\n",
            "\u001b[2K     \u001b[90m━━━━━━━━━━━━━━━━━━━━━━━━━━━━━━━━━━━━━━━━\u001b[0m \u001b[32m239.6/239.6 kB\u001b[0m \u001b[31m2.9 MB/s\u001b[0m eta \u001b[36m0:00:00\u001b[0m\n",
            "\u001b[?25hRequirement already satisfied: lxml>=3.1.0 in /usr/local/lib/python3.10/dist-packages (from python-docx) (4.9.3)\n",
            "Requirement already satisfied: typing-extensions in /usr/local/lib/python3.10/dist-packages (from python-docx) (4.5.0)\n",
            "Installing collected packages: python-docx\n",
            "Successfully installed python-docx-1.1.0\n"
          ]
        }
      ],
      "source": [
        "pip install python-docx"
      ]
    },
    {
      "cell_type": "code",
      "source": [
        "import spacy\n",
        "import docx\n",
        "import glob\n",
        "from spacy.lang.en.stop_words import STOP_WORDS\n",
        "from string import punctuation\n",
        "from google.colab import drive"
      ],
      "metadata": {
        "id": "VbAa0BCqxgQc"
      },
      "execution_count": 2,
      "outputs": []
    },
    {
      "cell_type": "code",
      "source": [
        "drive.mount('/content/drive/')"
      ],
      "metadata": {
        "colab": {
          "base_uri": "https://localhost:8080/"
        },
        "id": "r343TFkvx6Nf",
        "outputId": "535e744c-bd40-4447-81c0-ac40a7699038"
      },
      "execution_count": 3,
      "outputs": [
        {
          "output_type": "stream",
          "name": "stdout",
          "text": [
            "Mounted at /content/drive/\n"
          ]
        }
      ]
    },
    {
      "cell_type": "code",
      "source": [
        "# Specify the path to your Word documents\n",
        "docs_path = \"/content/drive/MyDrive/Dataset_NLP/Final_data.docx\"\n",
        "doc_files = glob.glob(docs_path)\n",
        "print(doc_files)"
      ],
      "metadata": {
        "id": "w_iyYCSuyCAd",
        "outputId": "ceb04dd4-3ebc-4770-fd42-c1817933941e",
        "colab": {
          "base_uri": "https://localhost:8080/"
        }
      },
      "execution_count": 4,
      "outputs": [
        {
          "output_type": "stream",
          "name": "stdout",
          "text": [
            "['/content/drive/MyDrive/Dataset_NLP/Final_data.docx']\n"
          ]
        }
      ]
    },
    {
      "cell_type": "code",
      "source": [
        "# Read the text from each document\n",
        "#So, the entire loop processes each document file in doc_files, extracts the text from each paragraph in the document, joins the paragraph texts into a single string, and appends that string to the data list.\n",
        "#After the loop completes, data will be a list where each element corresponds to the concatenated text of paragraphs in a respective document.\n",
        "data = []\n",
        "for doc_file in doc_files:\n",
        "    doc = docx.Document(doc_file)\n",
        "    text = ' '.join([paragraph.text for paragraph in doc.paragraphs])\n",
        "    data.append(text)"
      ],
      "metadata": {
        "id": "VisyUifN0G4K"
      },
      "execution_count": 5,
      "outputs": []
    },
    {
      "cell_type": "code",
      "source": [
        "##printing the dataset before pre-processing\n",
        "print(data)\n",
        "dataset=str(data)\n",
        "print(type(dataset))"
      ],
      "metadata": {
        "id": "aazxKqKV0hcU",
        "colab": {
          "base_uri": "https://localhost:8080/"
        },
        "outputId": "ec2bbdb6-4921-483d-a526-4cd36a33d577"
      },
      "execution_count": 6,
      "outputs": [
        {
          "output_type": "stream",
          "name": "stdout",
          "text": [
            "[' My next most valuable asset are my employees and established relationships that support my business. The ability to think quickly and adapt, and a supportive family Victor Jackson - Above all, I consider myself the most valuable asset; therefore, I good care of myself., Bizarrely out of the box thinker, Considering things from different perspectives\\xa0 Loves receiving feedback and implementing changes My family legacy and family are the biggest assets in my business., His most valuable asset is his problem-solving ability and the ability to create relationships to support the business. For an example, I would have creating a business model, that would have aligned me in setting business goals and focus on impacting the market more Jamie stated, “I wouldn’t change a thing.”\\xa0 , Would not do it again, if I did it again would start online first, overhead costs would be way less, only still open because I own the building Overall, I am happy with the way the business turned out., Mr. Kwok responded a solid “yes” and confirmed that he would like to start a business again in the same way if he has more capital and his children are willing to become the successors of the business. \\u202fShe also gave a lot of advice throughout the interview- listen to people, don’t get discouraged, continuously learn, don’t be afraid to fail, etc.\\xa0\\xa0 I would suggest having a plan of action or business model for how you want to grow your business and how you plan to do it., Stay close to the money and you will gain much more insight on how the business operates\\xa0 “Pick the people you want to go hunting and fishing with”., He also mentioned that if an aspiring entrepreneur indeed decided to start a business, make sure he or she communicates the concept with his or her family members in order to prepare for any unforeseen trade-offs that may impact the family relationship negatively.\\xa0 , Having your business plan in place, looked at by someone (other than people who love you), have a very good attorney (an objective one), and having an “up to date” accountant/CPA is very critical – all a must. Having a majority self-ran business is key, having the right systems in place can save you a lot of time and being open to change will allow your business to sustain even in challenging times. , “The top 3 things that I’ve learned from this experience was to always complete your own research, make sure to plan for any derailleurs that may come into play and always build relationships with people who are like minded and can be a resource to help develop me.”\\xa0 Be patient., Lesson of contentment – your business may not make a ton of money, but some is better than none.\\xa0Lesson of stepping out of comfort zone - take calculated risks., Your customers are people, your employees are people, and your investors are people., Be passionate about the business or venture and see the business as a passion and not only a money-making venture.  I feel I did not have to chase business growth like I would imagine entrepreneurs do. , Unlike most small business entrepreneurs, my venture was a lot of the right place at the right time and through word of mouth., My parents helped guide me, but they also had money saved when they started their business and a dual income, so I launched my business at a different level from them.\\xa0 , “I wish before we started our business, we had more resources or connections to help make unplanned events easier to handle or deal with.”\\xa0 , That is not easy, and life will not be easier after starting the business, that owning a business will reduce your freedom, contrary to the concept that you can make your own schedule. , , A business that operates in a busy area with a value-added product needs substantial marketing and advertising to maximize the business’s sales. ']\n",
            "<class 'str'>\n"
          ]
        }
      ]
    },
    {
      "cell_type": "code",
      "source": [
        "# Create a list of stopwords\n",
        "stopwords = list(STOP_WORDS)\n",
        "stopwords"
      ],
      "metadata": {
        "colab": {
          "base_uri": "https://localhost:8080/"
        },
        "id": "pM5FPK-k4xXF",
        "outputId": "5e1c3e7d-da3a-4080-c780-02b3d22b3bad"
      },
      "execution_count": 7,
      "outputs": [
        {
          "output_type": "execute_result",
          "data": {
            "text/plain": [
              "['enough',\n",
              " 'although',\n",
              " 'each',\n",
              " 'herein',\n",
              " 'am',\n",
              " 'third',\n",
              " 'them',\n",
              " 'nor',\n",
              " 'you',\n",
              " 'call',\n",
              " 'get',\n",
              " 'cannot',\n",
              " 'much',\n",
              " 'are',\n",
              " 'under',\n",
              " 'seeming',\n",
              " 'neither',\n",
              " 'someone',\n",
              " 'ca',\n",
              " 'amount',\n",
              " 'ever',\n",
              " 'my',\n",
              " 'onto',\n",
              " 'we',\n",
              " 'mostly',\n",
              " 'alone',\n",
              " 'whither',\n",
              " 'next',\n",
              " \"'re\",\n",
              " 'in',\n",
              " 'at',\n",
              " 'front',\n",
              " 'of',\n",
              " 'which',\n",
              " 'besides',\n",
              " 'least',\n",
              " 'thereby',\n",
              " 'they',\n",
              " 'whom',\n",
              " 'last',\n",
              " 'beside',\n",
              " 'your',\n",
              " 'below',\n",
              " 'hundred',\n",
              " 'from',\n",
              " 'doing',\n",
              " 'until',\n",
              " 'every',\n",
              " 'nine',\n",
              " 'others',\n",
              " 'moreover',\n",
              " 'serious',\n",
              " \"'s\",\n",
              " 'unless',\n",
              " 'while',\n",
              " 'bottom',\n",
              " 'everywhere',\n",
              " 'became',\n",
              " 'was',\n",
              " 'our',\n",
              " 'indeed',\n",
              " 'whatever',\n",
              " 'towards',\n",
              " 'nowhere',\n",
              " 'it',\n",
              " 'whereas',\n",
              " 'whenever',\n",
              " 'hereupon',\n",
              " 'just',\n",
              " 'anyway',\n",
              " '‘s',\n",
              " 'without',\n",
              " 'against',\n",
              " 'whereafter',\n",
              " 'any',\n",
              " 'since',\n",
              " 'really',\n",
              " 'few',\n",
              " 'have',\n",
              " 'yours',\n",
              " 'well',\n",
              " 'beforehand',\n",
              " 'several',\n",
              " \"'ve\",\n",
              " \"'ll\",\n",
              " 'none',\n",
              " 'meanwhile',\n",
              " 'about',\n",
              " 'some',\n",
              " 'when',\n",
              " 'into',\n",
              " 'put',\n",
              " 'three',\n",
              " 'former',\n",
              " 'except',\n",
              " 'whose',\n",
              " 'within',\n",
              " 'do',\n",
              " 'somehow',\n",
              " 'go',\n",
              " 'n‘t',\n",
              " 'is',\n",
              " 'then',\n",
              " 'me',\n",
              " 'she',\n",
              " 'sometimes',\n",
              " 'whence',\n",
              " 'everything',\n",
              " 'give',\n",
              " 'rather',\n",
              " '’ve',\n",
              " 'more',\n",
              " '’re',\n",
              " 'itself',\n",
              " \"'m\",\n",
              " 'along',\n",
              " 'again',\n",
              " 'also',\n",
              " 'over',\n",
              " 'quite',\n",
              " 'fifty',\n",
              " 'forty',\n",
              " 'make',\n",
              " 'thru',\n",
              " 'his',\n",
              " 'very',\n",
              " 'all',\n",
              " 'there',\n",
              " 'would',\n",
              " 'however',\n",
              " 'with',\n",
              " 'often',\n",
              " 'has',\n",
              " 'not',\n",
              " 'using',\n",
              " 'how',\n",
              " 'and',\n",
              " 'down',\n",
              " 'such',\n",
              " 'even',\n",
              " 'everyone',\n",
              " 'upon',\n",
              " 'further',\n",
              " 'be',\n",
              " '‘ve',\n",
              " 'becoming',\n",
              " 'already',\n",
              " 'see',\n",
              " 'other',\n",
              " 'twelve',\n",
              " 'those',\n",
              " 'before',\n",
              " 'now',\n",
              " 'whoever',\n",
              " 'name',\n",
              " 'various',\n",
              " 'across',\n",
              " 'or',\n",
              " 'yourselves',\n",
              " 'part',\n",
              " 'another',\n",
              " 'perhaps',\n",
              " 'the',\n",
              " 'himself',\n",
              " 'noone',\n",
              " 'had',\n",
              " 'a',\n",
              " 'both',\n",
              " 'beyond',\n",
              " 'thereupon',\n",
              " 'therefore',\n",
              " 'anyhow',\n",
              " 'via',\n",
              " 'herself',\n",
              " 'latter',\n",
              " 'no',\n",
              " 'after',\n",
              " 'could',\n",
              " 'eight',\n",
              " 'him',\n",
              " 'sixty',\n",
              " 'off',\n",
              " 'most',\n",
              " 'its',\n",
              " 'done',\n",
              " 'wherein',\n",
              " 'hereby',\n",
              " 'show',\n",
              " 'toward',\n",
              " 'yet',\n",
              " 'this',\n",
              " 'above',\n",
              " 'whole',\n",
              " 'who',\n",
              " 'that',\n",
              " 'almost',\n",
              " 'same',\n",
              " 'myself',\n",
              " 'thence',\n",
              " 'six',\n",
              " 'together',\n",
              " 'per',\n",
              " \"'d\",\n",
              " 'once',\n",
              " 'less',\n",
              " 'twenty',\n",
              " 'first',\n",
              " '‘d',\n",
              " 'nevertheless',\n",
              " 'please',\n",
              " 'full',\n",
              " 'did',\n",
              " 'latterly',\n",
              " 'their',\n",
              " 'own',\n",
              " 'too',\n",
              " 'keep',\n",
              " 'seems',\n",
              " 'themselves',\n",
              " 'elsewhere',\n",
              " 'here',\n",
              " 'out',\n",
              " 'might',\n",
              " 'will',\n",
              " 'ten',\n",
              " 'as',\n",
              " 'either',\n",
              " 'if',\n",
              " 'say',\n",
              " 'than',\n",
              " 'around',\n",
              " 'afterwards',\n",
              " 'namely',\n",
              " 'wherever',\n",
              " 'ourselves',\n",
              " 'seemed',\n",
              " 'anything',\n",
              " '’s',\n",
              " 'being',\n",
              " 'why',\n",
              " '’d',\n",
              " 'her',\n",
              " 'becomes',\n",
              " 'were',\n",
              " '’ll',\n",
              " 'so',\n",
              " 'become',\n",
              " 'used',\n",
              " 'whether',\n",
              " 'though',\n",
              " 'one',\n",
              " 'nothing',\n",
              " 'therein',\n",
              " 'where',\n",
              " 'must',\n",
              " 'between',\n",
              " 'nobody',\n",
              " 'move',\n",
              " 'us',\n",
              " 'whereby',\n",
              " 'five',\n",
              " 'ours',\n",
              " 'yourself',\n",
              " '‘ll',\n",
              " 'amongst',\n",
              " 'been',\n",
              " 'anywhere',\n",
              " 'something',\n",
              " 'these',\n",
              " 'may',\n",
              " 'empty',\n",
              " 'sometime',\n",
              " 'two',\n",
              " 'due',\n",
              " 'can',\n",
              " 'thereafter',\n",
              " 'thus',\n",
              " 'fifteen',\n",
              " 'many',\n",
              " 'otherwise',\n",
              " 'regarding',\n",
              " 'he',\n",
              " 'four',\n",
              " 'among',\n",
              " 'i',\n",
              " 'up',\n",
              " \"n't\",\n",
              " 'hers',\n",
              " 'anyone',\n",
              " 'eleven',\n",
              " 'hereafter',\n",
              " 'never',\n",
              " 'else',\n",
              " '‘m',\n",
              " 'seem',\n",
              " '’m',\n",
              " 'formerly',\n",
              " 'an',\n",
              " 'only',\n",
              " 'to',\n",
              " '‘re',\n",
              " 're',\n",
              " 'should',\n",
              " 'does',\n",
              " 'somewhere',\n",
              " 'but',\n",
              " 'because',\n",
              " 'throughout',\n",
              " 'mine',\n",
              " 'through',\n",
              " 'still',\n",
              " 'on',\n",
              " 'whereupon',\n",
              " 'always',\n",
              " 'take',\n",
              " 'what',\n",
              " 'by',\n",
              " 'made',\n",
              " 'behind',\n",
              " 'hence',\n",
              " 'back',\n",
              " 'side',\n",
              " 'top',\n",
              " 'n’t',\n",
              " 'for',\n",
              " 'during']"
            ]
          },
          "metadata": {},
          "execution_count": 7
        }
      ]
    },
    {
      "cell_type": "code",
      "source": [
        "# Add newline to the existing punctuation\n",
        "punctuation = punctuation + '\\n'\n",
        "punctuation"
      ],
      "metadata": {
        "colab": {
          "base_uri": "https://localhost:8080/",
          "height": 35
        },
        "id": "cqK-_dTf7THJ",
        "outputId": "2b6c21da-f162-4b38-97d7-1a077c7c9928"
      },
      "execution_count": 8,
      "outputs": [
        {
          "output_type": "execute_result",
          "data": {
            "text/plain": [
              "'!\"#$%&\\'()*+,-./:;<=>?@[\\\\]^_`{|}~\\n'"
            ],
            "application/vnd.google.colaboratory.intrinsic+json": {
              "type": "string"
            }
          },
          "metadata": {},
          "execution_count": 8
        }
      ]
    },
    {
      "cell_type": "code",
      "source": [
        "#spacy: This is the spaCy library, an open-source natural language processing (NLP) library in Python.\n",
        "# .load('en_core_web_sm'): This method is used to load a spaCy language model.\n",
        "#The argument 'en_core_web_sm' specifies the English language model trained on web data and is a small version of the spaCy English models. It includes vocabulary, syntax, and named entity recognition (NER) components.\n",
        "nlp = spacy.load('en_core_web_sm')"
      ],
      "metadata": {
        "id": "6ncut5ua4xZj"
      },
      "execution_count": 9,
      "outputs": []
    },
    {
      "cell_type": "code",
      "source": [
        "# Process the combined text using spaCy\n",
        "##This is a function call to the spaCy model (nlp). When pass a text string to the nlp model, it processes the text and returns a Doc object\n",
        "\n",
        "doc = nlp(text)\n"
      ],
      "metadata": {
        "id": "BpWmh2Ij4xce"
      },
      "execution_count": 10,
      "outputs": []
    },
    {
      "cell_type": "code",
      "source": [
        "# Tokenize the document\n",
        "##After this line, tokens is a list of strings, where each string corresponds to the text of a token in the order they appear in the document.\n",
        "#tokens is a list containing the individual words and punctuation marks from the processed text.\n",
        "tokens = [token.text for token in doc]\n",
        "print(tokens)"
      ],
      "metadata": {
        "colab": {
          "base_uri": "https://localhost:8080/"
        },
        "id": "eIoeNyOZ4xfK",
        "outputId": "70663e1d-e860-4ea1-b02c-bf24b9582193"
      },
      "execution_count": 11,
      "outputs": [
        {
          "output_type": "stream",
          "name": "stdout",
          "text": [
            "[' ', 'My', 'next', 'most', 'valuable', 'asset', 'are', 'my', 'employees', 'and', 'established', 'relationships', 'that', 'support', 'my', 'business', '.', 'The', 'ability', 'to', 'think', 'quickly', 'and', 'adapt', ',', 'and', 'a', 'supportive', 'family', 'Victor', 'Jackson', '-', 'Above', 'all', ',', 'I', 'consider', 'myself', 'the', 'most', 'valuable', 'asset', ';', 'therefore', ',', 'I', 'good', 'care', 'of', 'myself', '.', ',', 'Bizarrely', 'out', 'of', 'the', 'box', 'thinker', ',', 'Considering', 'things', 'from', 'different', 'perspectives', '\\xa0 ', 'Loves', 'receiving', 'feedback', 'and', 'implementing', 'changes', 'My', 'family', 'legacy', 'and', 'family', 'are', 'the', 'biggest', 'assets', 'in', 'my', 'business', '.', ',', 'His', 'most', 'valuable', 'asset', 'is', 'his', 'problem', '-', 'solving', 'ability', 'and', 'the', 'ability', 'to', 'create', 'relationships', 'to', 'support', 'the', 'business', '.', 'For', 'an', 'example', ',', 'I', 'would', 'have', 'creating', 'a', 'business', 'model', ',', 'that', 'would', 'have', 'aligned', 'me', 'in', 'setting', 'business', 'goals', 'and', 'focus', 'on', 'impacting', 'the', 'market', 'more', 'Jamie', 'stated', ',', '“', 'I', 'would', 'n’t', 'change', 'a', 'thing', '.', '”', '\\xa0 ', ',', 'Would', 'not', 'do', 'it', 'again', ',', 'if', 'I', 'did', 'it', 'again', 'would', 'start', 'online', 'first', ',', 'overhead', 'costs', 'would', 'be', 'way', 'less', ',', 'only', 'still', 'open', 'because', 'I', 'own', 'the', 'building', 'Overall', ',', 'I', 'am', 'happy', 'with', 'the', 'way', 'the', 'business', 'turned', 'out', '.', ',', 'Mr.', 'Kwok', 'responded', 'a', 'solid', '“', 'yes', '”', 'and', 'confirmed', 'that', 'he', 'would', 'like', 'to', 'start', 'a', 'business', 'again', 'in', 'the', 'same', 'way', 'if', 'he', 'has', 'more', 'capital', 'and', 'his', 'children', 'are', 'willing', 'to', 'become', 'the', 'successors', 'of', 'the', 'business', '.', '\\u202f', 'She', 'also', 'gave', 'a', 'lot', 'of', 'advice', 'throughout', 'the', 'interview-', 'listen', 'to', 'people', ',', 'do', 'n’t', 'get', 'discouraged', ',', 'continuously', 'learn', ',', 'do', 'n’t', 'be', 'afraid', 'to', 'fail', ',', 'etc', '.', '\\xa0\\xa0 ', 'I', 'would', 'suggest', 'having', 'a', 'plan', 'of', 'action', 'or', 'business', 'model', 'for', 'how', 'you', 'want', 'to', 'grow', 'your', 'business', 'and', 'how', 'you', 'plan', 'to', 'do', 'it', '.', ',', 'Stay', 'close', 'to', 'the', 'money', 'and', 'you', 'will', 'gain', 'much', 'more', 'insight', 'on', 'how', 'the', 'business', 'operates', '\\xa0 ', '“', 'Pick', 'the', 'people', 'you', 'want', 'to', 'go', 'hunting', 'and', 'fishing', 'with', '”', '.', ',', 'He', 'also', 'mentioned', 'that', 'if', 'an', 'aspiring', 'entrepreneur', 'indeed', 'decided', 'to', 'start', 'a', 'business', ',', 'make', 'sure', 'he', 'or', 'she', 'communicates', 'the', 'concept', 'with', 'his', 'or', 'her', 'family', 'members', 'in', 'order', 'to', 'prepare', 'for', 'any', 'unforeseen', 'trade', '-', 'offs', 'that', 'may', 'impact', 'the', 'family', 'relationship', 'negatively', '.', '\\xa0 ', ',', 'Having', 'your', 'business', 'plan', 'in', 'place', ',', 'looked', 'at', 'by', 'someone', '(', 'other', 'than', 'people', 'who', 'love', 'you', ')', ',', 'have', 'a', 'very', 'good', 'attorney', '(', 'an', 'objective', 'one', ')', ',', 'and', 'having', 'an', '“', 'up', 'to', 'date', '”', 'accountant', '/', 'CPA', 'is', 'very', 'critical', '–', 'all', 'a', 'must', '.', 'Having', 'a', 'majority', 'self', '-', 'ran', 'business', 'is', 'key', ',', 'having', 'the', 'right', 'systems', 'in', 'place', 'can', 'save', 'you', 'a', 'lot', 'of', 'time', 'and', 'being', 'open', 'to', 'change', 'will', 'allow', 'your', 'business', 'to', 'sustain', 'even', 'in', 'challenging', 'times', '.', ',', '“', 'The', 'top', '3', 'things', 'that', 'I', '’ve', 'learned', 'from', 'this', 'experience', 'was', 'to', 'always', 'complete', 'your', 'own', 'research', ',', 'make', 'sure', 'to', 'plan', 'for', 'any', 'derailleurs', 'that', 'may', 'come', 'into', 'play', 'and', 'always', 'build', 'relationships', 'with', 'people', 'who', 'are', 'like', 'minded', 'and', 'can', 'be', 'a', 'resource', 'to', 'help', 'develop', 'me', '.', '”', '\\xa0 ', 'Be', 'patient', '.', ',', 'Lesson', 'of', 'contentment', '–', 'your', 'business', 'may', 'not', 'make', 'a', 'ton', 'of', 'money', ',', 'but', 'some', 'is', 'better', 'than', 'none', '.', '\\xa0', 'Lesson', 'of', 'stepping', 'out', 'of', 'comfort', 'zone', '-', 'take', 'calculated', 'risks', '.', ',', 'Your', 'customers', 'are', 'people', ',', 'your', 'employees', 'are', 'people', ',', 'and', 'your', 'investors', 'are', 'people', '.', ',', 'Be', 'passionate', 'about', 'the', 'business', 'or', 'venture', 'and', 'see', 'the', 'business', 'as', 'a', 'passion', 'and', 'not', 'only', 'a', 'money', '-', 'making', 'venture', '.', ' ', 'I', 'feel', 'I', 'did', 'not', 'have', 'to', 'chase', 'business', 'growth', 'like', 'I', 'would', 'imagine', 'entrepreneurs', 'do', '.', ',', 'Unlike', 'most', 'small', 'business', 'entrepreneurs', ',', 'my', 'venture', 'was', 'a', 'lot', 'of', 'the', 'right', 'place', 'at', 'the', 'right', 'time', 'and', 'through', 'word', 'of', 'mouth', '.', ',', 'My', 'parents', 'helped', 'guide', 'me', ',', 'but', 'they', 'also', 'had', 'money', 'saved', 'when', 'they', 'started', 'their', 'business', 'and', 'a', 'dual', 'income', ',', 'so', 'I', 'launched', 'my', 'business', 'at', 'a', 'different', 'level', 'from', 'them', '.', '\\xa0 ', ',', '“', 'I', 'wish', 'before', 'we', 'started', 'our', 'business', ',', 'we', 'had', 'more', 'resources', 'or', 'connections', 'to', 'help', 'make', 'unplanned', 'events', 'easier', 'to', 'handle', 'or', 'deal', 'with', '.', '”', '\\xa0 ', ',', 'That', 'is', 'not', 'easy', ',', 'and', 'life', 'will', 'not', 'be', 'easier', 'after', 'starting', 'the', 'business', ',', 'that', 'owning', 'a', 'business', 'will', 'reduce', 'your', 'freedom', ',', 'contrary', 'to', 'the', 'concept', 'that', 'you', 'can', 'make', 'your', 'own', 'schedule', '.', ',', ',', 'A', 'business', 'that', 'operates', 'in', 'a', 'busy', 'area', 'with', 'a', 'value', '-', 'added', 'product', 'needs', 'substantial', 'marketing', 'and', 'advertising', 'to', 'maximize', 'the', 'business', '’s', 'sales', '.']\n"
          ]
        }
      ]
    },
    {
      "cell_type": "code",
      "source": [
        "#To summarize, the code iterates through each word in the document, checks if it is not a stop word and not a punctuation mark, and then updates the word frequencies in the word_frequencies dictionary.\n",
        "#After this loop, word_frequencies will contain the frequency of each non-stopword, non-punctuation word in the document. The choice to use lowercase versions of words in the checks ensures case-insensitive matching.\n",
        "word_frequencies = {}\n",
        "for word in doc:\n",
        "    if word.text.lower() not in stopwords:\n",
        "        if word.text.lower() not in punctuation:\n",
        "            if word.text not in word_frequencies.keys():\n",
        "                word_frequencies[word.text] = 1\n",
        "            else:\n",
        "                word_frequencies[word.text] += 1\n",
        "\n",
        "#print(word_frequencies)"
      ],
      "metadata": {
        "id": "Q_wAJQ7s4xks"
      },
      "execution_count": 12,
      "outputs": []
    },
    {
      "cell_type": "code",
      "source": [
        "# getting maximum word frequencie for Normalization\n",
        "#This line calculates the maximum frequency of any word in the word_frequencies dictionary and assigns it to the variable max_frequency.\n",
        "\n",
        "max_frequency = max(word_frequencies.values())\n",
        "max_frequency"
      ],
      "metadata": {
        "colab": {
          "base_uri": "https://localhost:8080/"
        },
        "id": "n6S4FMNm4xnW",
        "outputId": "9d94d2f5-e8f6-4f0b-eb53-137e43a44eeb"
      },
      "execution_count": 13,
      "outputs": [
        {
          "output_type": "execute_result",
          "data": {
            "text/plain": [
              "27"
            ]
          },
          "metadata": {},
          "execution_count": 13
        }
      ]
    },
    {
      "cell_type": "code",
      "source": [
        "##printing each word occurs how many times in the text dataset\n",
        "for i,j in word_frequencies.items():\n",
        "  print(i,j)"
      ],
      "metadata": {
        "colab": {
          "base_uri": "https://localhost:8080/"
        },
        "id": "X4G6ObKn-D9M",
        "outputId": "5c301724-651a-4418-c518-bbcb2f70468b"
      },
      "execution_count": 14,
      "outputs": [
        {
          "output_type": "stream",
          "name": "stdout",
          "text": [
            "  2\n",
            "valuable 3\n",
            "asset 3\n",
            "employees 2\n",
            "established 1\n",
            "relationships 3\n",
            "support 2\n",
            "business 27\n",
            "ability 3\n",
            "think 1\n",
            "quickly 1\n",
            "adapt 1\n",
            "supportive 1\n",
            "family 5\n",
            "Victor 1\n",
            "Jackson 1\n",
            "consider 1\n",
            "good 2\n",
            "care 1\n",
            "Bizarrely 1\n",
            "box 1\n",
            "thinker 1\n",
            "Considering 1\n",
            "things 2\n",
            "different 2\n",
            "perspectives 1\n",
            "   7\n",
            "Loves 1\n",
            "receiving 1\n",
            "feedback 1\n",
            "implementing 1\n",
            "changes 1\n",
            "legacy 1\n",
            "biggest 1\n",
            "assets 1\n",
            "problem 1\n",
            "solving 1\n",
            "create 1\n",
            "example 1\n",
            "creating 1\n",
            "model 2\n",
            "aligned 1\n",
            "setting 1\n",
            "goals 1\n",
            "focus 1\n",
            "impacting 1\n",
            "market 1\n",
            "Jamie 1\n",
            "stated 1\n",
            "“ 6\n",
            "change 2\n",
            "thing 1\n",
            "” 6\n",
            "start 3\n",
            "online 1\n",
            "overhead 1\n",
            "costs 1\n",
            "way 3\n",
            "open 2\n",
            "building 1\n",
            "Overall 1\n",
            "happy 1\n",
            "turned 1\n",
            "Mr. 1\n",
            "Kwok 1\n",
            "responded 1\n",
            "solid 1\n",
            "yes 1\n",
            "confirmed 1\n",
            "like 3\n",
            "capital 1\n",
            "children 1\n",
            "willing 1\n",
            "successors 1\n",
            "  1\n",
            "gave 1\n",
            "lot 3\n",
            "advice 1\n",
            "interview- 1\n",
            "listen 1\n",
            "people 7\n",
            "discouraged 1\n",
            "continuously 1\n",
            "learn 1\n",
            "afraid 1\n",
            "fail 1\n",
            "etc 1\n",
            "    1\n",
            "suggest 1\n",
            "having 3\n",
            "plan 4\n",
            "action 1\n",
            "want 2\n",
            "grow 1\n",
            "Stay 1\n",
            "close 1\n",
            "money 4\n",
            "gain 1\n",
            "insight 1\n",
            "operates 2\n",
            "Pick 1\n",
            "hunting 1\n",
            "fishing 1\n",
            "mentioned 1\n",
            "aspiring 1\n",
            "entrepreneur 1\n",
            "decided 1\n",
            "sure 2\n",
            "communicates 1\n",
            "concept 2\n",
            "members 1\n",
            "order 1\n",
            "prepare 1\n",
            "unforeseen 1\n",
            "trade 1\n",
            "offs 1\n",
            "impact 1\n",
            "relationship 1\n",
            "negatively 1\n",
            "Having 2\n",
            "place 3\n",
            "looked 1\n",
            "love 1\n",
            "attorney 1\n",
            "objective 1\n",
            "date 1\n",
            "accountant 1\n",
            "CPA 1\n",
            "critical 1\n",
            "– 2\n",
            "majority 1\n",
            "self 1\n",
            "ran 1\n",
            "key 1\n",
            "right 3\n",
            "systems 1\n",
            "save 1\n",
            "time 2\n",
            "allow 1\n",
            "sustain 1\n",
            "challenging 1\n",
            "times 1\n",
            "3 1\n",
            "learned 1\n",
            "experience 1\n",
            "complete 1\n",
            "research 1\n",
            "derailleurs 1\n",
            "come 1\n",
            "play 1\n",
            "build 1\n",
            "minded 1\n",
            "resource 1\n",
            "help 2\n",
            "develop 1\n",
            "patient 1\n",
            "Lesson 2\n",
            "contentment 1\n",
            "ton 1\n",
            "better 1\n",
            "  1\n",
            "stepping 1\n",
            "comfort 1\n",
            "zone 1\n",
            "calculated 1\n",
            "risks 1\n",
            "customers 1\n",
            "investors 1\n",
            "passionate 1\n",
            "venture 3\n",
            "passion 1\n",
            "making 1\n",
            "feel 1\n",
            "chase 1\n",
            "growth 1\n",
            "imagine 1\n",
            "entrepreneurs 2\n",
            "Unlike 1\n",
            "small 1\n",
            "word 1\n",
            "mouth 1\n",
            "parents 1\n",
            "helped 1\n",
            "guide 1\n",
            "saved 1\n",
            "started 2\n",
            "dual 1\n",
            "income 1\n",
            "launched 1\n",
            "level 1\n",
            "wish 1\n",
            "resources 1\n",
            "connections 1\n",
            "unplanned 1\n",
            "events 1\n",
            "easier 2\n",
            "handle 1\n",
            "deal 1\n",
            "easy 1\n",
            "life 1\n",
            "starting 1\n",
            "owning 1\n",
            "reduce 1\n",
            "freedom 1\n",
            "contrary 1\n",
            "schedule 1\n",
            "busy 1\n",
            "area 1\n",
            "value 1\n",
            "added 1\n",
            "product 1\n",
            "needs 1\n",
            "substantial 1\n",
            "marketing 1\n",
            "advertising 1\n",
            "maximize 1\n",
            "sales 1\n"
          ]
        }
      ]
    },
    {
      "cell_type": "code",
      "source": [
        "# Normalize word frequencies\n",
        "\n",
        "#The purpose of this normalization is to scale the word frequencies to a range between 0 and 1.\n",
        "#By dividing each word's frequency by the maximum frequency, you get relative frequencies that represent the proportion of occurrences of each word compared to the most frequently occurring word in the document.\n",
        "#This normalization is often done to make word frequencies comparable across different documents or datasets, especially when the documents vary in length.\n",
        "#It helps emphasize the relative importance of words based on their frequency within the specific context of the document.#\n",
        "for word in word_frequencies.keys():\n",
        "    word_frequencies[word] = word_frequencies[word]/max_frequency\n",
        "print(\"Word_frequency_normalized_values:\")\n",
        "#print(word_frequencies)\n",
        "for i,j in word_frequencies.items():\n",
        "  print(i,j)\n"
      ],
      "metadata": {
        "colab": {
          "base_uri": "https://localhost:8080/"
        },
        "id": "oX_pcZse4xqN",
        "outputId": "f2b2f3cd-0425-44c7-fcee-8345aba393b0"
      },
      "execution_count": 15,
      "outputs": [
        {
          "output_type": "stream",
          "name": "stdout",
          "text": [
            "Word_frequency_normalized_values:\n",
            "  0.07407407407407407\n",
            "valuable 0.1111111111111111\n",
            "asset 0.1111111111111111\n",
            "employees 0.07407407407407407\n",
            "established 0.037037037037037035\n",
            "relationships 0.1111111111111111\n",
            "support 0.07407407407407407\n",
            "business 1.0\n",
            "ability 0.1111111111111111\n",
            "think 0.037037037037037035\n",
            "quickly 0.037037037037037035\n",
            "adapt 0.037037037037037035\n",
            "supportive 0.037037037037037035\n",
            "family 0.18518518518518517\n",
            "Victor 0.037037037037037035\n",
            "Jackson 0.037037037037037035\n",
            "consider 0.037037037037037035\n",
            "good 0.07407407407407407\n",
            "care 0.037037037037037035\n",
            "Bizarrely 0.037037037037037035\n",
            "box 0.037037037037037035\n",
            "thinker 0.037037037037037035\n",
            "Considering 0.037037037037037035\n",
            "things 0.07407407407407407\n",
            "different 0.07407407407407407\n",
            "perspectives 0.037037037037037035\n",
            "   0.25925925925925924\n",
            "Loves 0.037037037037037035\n",
            "receiving 0.037037037037037035\n",
            "feedback 0.037037037037037035\n",
            "implementing 0.037037037037037035\n",
            "changes 0.037037037037037035\n",
            "legacy 0.037037037037037035\n",
            "biggest 0.037037037037037035\n",
            "assets 0.037037037037037035\n",
            "problem 0.037037037037037035\n",
            "solving 0.037037037037037035\n",
            "create 0.037037037037037035\n",
            "example 0.037037037037037035\n",
            "creating 0.037037037037037035\n",
            "model 0.07407407407407407\n",
            "aligned 0.037037037037037035\n",
            "setting 0.037037037037037035\n",
            "goals 0.037037037037037035\n",
            "focus 0.037037037037037035\n",
            "impacting 0.037037037037037035\n",
            "market 0.037037037037037035\n",
            "Jamie 0.037037037037037035\n",
            "stated 0.037037037037037035\n",
            "“ 0.2222222222222222\n",
            "change 0.07407407407407407\n",
            "thing 0.037037037037037035\n",
            "” 0.2222222222222222\n",
            "start 0.1111111111111111\n",
            "online 0.037037037037037035\n",
            "overhead 0.037037037037037035\n",
            "costs 0.037037037037037035\n",
            "way 0.1111111111111111\n",
            "open 0.07407407407407407\n",
            "building 0.037037037037037035\n",
            "Overall 0.037037037037037035\n",
            "happy 0.037037037037037035\n",
            "turned 0.037037037037037035\n",
            "Mr. 0.037037037037037035\n",
            "Kwok 0.037037037037037035\n",
            "responded 0.037037037037037035\n",
            "solid 0.037037037037037035\n",
            "yes 0.037037037037037035\n",
            "confirmed 0.037037037037037035\n",
            "like 0.1111111111111111\n",
            "capital 0.037037037037037035\n",
            "children 0.037037037037037035\n",
            "willing 0.037037037037037035\n",
            "successors 0.037037037037037035\n",
            "  0.037037037037037035\n",
            "gave 0.037037037037037035\n",
            "lot 0.1111111111111111\n",
            "advice 0.037037037037037035\n",
            "interview- 0.037037037037037035\n",
            "listen 0.037037037037037035\n",
            "people 0.25925925925925924\n",
            "discouraged 0.037037037037037035\n",
            "continuously 0.037037037037037035\n",
            "learn 0.037037037037037035\n",
            "afraid 0.037037037037037035\n",
            "fail 0.037037037037037035\n",
            "etc 0.037037037037037035\n",
            "    0.037037037037037035\n",
            "suggest 0.037037037037037035\n",
            "having 0.1111111111111111\n",
            "plan 0.14814814814814814\n",
            "action 0.037037037037037035\n",
            "want 0.07407407407407407\n",
            "grow 0.037037037037037035\n",
            "Stay 0.037037037037037035\n",
            "close 0.037037037037037035\n",
            "money 0.14814814814814814\n",
            "gain 0.037037037037037035\n",
            "insight 0.037037037037037035\n",
            "operates 0.07407407407407407\n",
            "Pick 0.037037037037037035\n",
            "hunting 0.037037037037037035\n",
            "fishing 0.037037037037037035\n",
            "mentioned 0.037037037037037035\n",
            "aspiring 0.037037037037037035\n",
            "entrepreneur 0.037037037037037035\n",
            "decided 0.037037037037037035\n",
            "sure 0.07407407407407407\n",
            "communicates 0.037037037037037035\n",
            "concept 0.07407407407407407\n",
            "members 0.037037037037037035\n",
            "order 0.037037037037037035\n",
            "prepare 0.037037037037037035\n",
            "unforeseen 0.037037037037037035\n",
            "trade 0.037037037037037035\n",
            "offs 0.037037037037037035\n",
            "impact 0.037037037037037035\n",
            "relationship 0.037037037037037035\n",
            "negatively 0.037037037037037035\n",
            "Having 0.07407407407407407\n",
            "place 0.1111111111111111\n",
            "looked 0.037037037037037035\n",
            "love 0.037037037037037035\n",
            "attorney 0.037037037037037035\n",
            "objective 0.037037037037037035\n",
            "date 0.037037037037037035\n",
            "accountant 0.037037037037037035\n",
            "CPA 0.037037037037037035\n",
            "critical 0.037037037037037035\n",
            "– 0.07407407407407407\n",
            "majority 0.037037037037037035\n",
            "self 0.037037037037037035\n",
            "ran 0.037037037037037035\n",
            "key 0.037037037037037035\n",
            "right 0.1111111111111111\n",
            "systems 0.037037037037037035\n",
            "save 0.037037037037037035\n",
            "time 0.07407407407407407\n",
            "allow 0.037037037037037035\n",
            "sustain 0.037037037037037035\n",
            "challenging 0.037037037037037035\n",
            "times 0.037037037037037035\n",
            "3 0.037037037037037035\n",
            "learned 0.037037037037037035\n",
            "experience 0.037037037037037035\n",
            "complete 0.037037037037037035\n",
            "research 0.037037037037037035\n",
            "derailleurs 0.037037037037037035\n",
            "come 0.037037037037037035\n",
            "play 0.037037037037037035\n",
            "build 0.037037037037037035\n",
            "minded 0.037037037037037035\n",
            "resource 0.037037037037037035\n",
            "help 0.07407407407407407\n",
            "develop 0.037037037037037035\n",
            "patient 0.037037037037037035\n",
            "Lesson 0.07407407407407407\n",
            "contentment 0.037037037037037035\n",
            "ton 0.037037037037037035\n",
            "better 0.037037037037037035\n",
            "  0.037037037037037035\n",
            "stepping 0.037037037037037035\n",
            "comfort 0.037037037037037035\n",
            "zone 0.037037037037037035\n",
            "calculated 0.037037037037037035\n",
            "risks 0.037037037037037035\n",
            "customers 0.037037037037037035\n",
            "investors 0.037037037037037035\n",
            "passionate 0.037037037037037035\n",
            "venture 0.1111111111111111\n",
            "passion 0.037037037037037035\n",
            "making 0.037037037037037035\n",
            "feel 0.037037037037037035\n",
            "chase 0.037037037037037035\n",
            "growth 0.037037037037037035\n",
            "imagine 0.037037037037037035\n",
            "entrepreneurs 0.07407407407407407\n",
            "Unlike 0.037037037037037035\n",
            "small 0.037037037037037035\n",
            "word 0.037037037037037035\n",
            "mouth 0.037037037037037035\n",
            "parents 0.037037037037037035\n",
            "helped 0.037037037037037035\n",
            "guide 0.037037037037037035\n",
            "saved 0.037037037037037035\n",
            "started 0.07407407407407407\n",
            "dual 0.037037037037037035\n",
            "income 0.037037037037037035\n",
            "launched 0.037037037037037035\n",
            "level 0.037037037037037035\n",
            "wish 0.037037037037037035\n",
            "resources 0.037037037037037035\n",
            "connections 0.037037037037037035\n",
            "unplanned 0.037037037037037035\n",
            "events 0.037037037037037035\n",
            "easier 0.07407407407407407\n",
            "handle 0.037037037037037035\n",
            "deal 0.037037037037037035\n",
            "easy 0.037037037037037035\n",
            "life 0.037037037037037035\n",
            "starting 0.037037037037037035\n",
            "owning 0.037037037037037035\n",
            "reduce 0.037037037037037035\n",
            "freedom 0.037037037037037035\n",
            "contrary 0.037037037037037035\n",
            "schedule 0.037037037037037035\n",
            "busy 0.037037037037037035\n",
            "area 0.037037037037037035\n",
            "value 0.037037037037037035\n",
            "added 0.037037037037037035\n",
            "product 0.037037037037037035\n",
            "needs 0.037037037037037035\n",
            "substantial 0.037037037037037035\n",
            "marketing 0.037037037037037035\n",
            "advertising 0.037037037037037035\n",
            "maximize 0.037037037037037035\n",
            "sales 0.037037037037037035\n"
          ]
        }
      ]
    },
    {
      "cell_type": "code",
      "source": [
        "# Tokenize sentences\n",
        "#after executing this line of code, sentence_tokens will be a list where each element corresponds to a sentence in the document.\n",
        "\n",
        "sentence_tokens = [sent for sent in doc.sents]\n",
        "#print(sentence_tokens)\n",
        "print(sentence_tokens)"
      ],
      "metadata": {
        "colab": {
          "base_uri": "https://localhost:8080/"
        },
        "id": "8aAQR97u4xw0",
        "outputId": "cbe239ee-4113-44c7-e666-b3c2539bd5ce"
      },
      "execution_count": 16,
      "outputs": [
        {
          "output_type": "stream",
          "name": "stdout",
          "text": [
            "[ My next most valuable asset are my employees and established relationships that support my business., The ability to think quickly and adapt, and a supportive family Victor Jackson - Above all, I consider myself the most valuable asset; therefore, I good care of myself., Bizarrely out of the box thinker, Considering things from different perspectives  Loves receiving feedback and implementing changes My family legacy and family are the biggest assets in my business.,, His most valuable asset is his problem-solving ability and the ability to create relationships to support the business., For an example, I would have creating a business model, that would have aligned me in setting business goals and focus on impacting the market more Jamie stated, “I wouldn’t change a thing.”  , Would not do it again, if I did it again would start online first, overhead costs would be way less, only still open because I own the building Overall, I am happy with the way the business turned out., , Mr. Kwok responded a solid “yes” and confirmed that he would like to start a business again in the same way if he has more capital and his children are willing to become the successors of the business.  , She also gave a lot of advice throughout the interview- listen to people, don’t get discouraged, continuously learn, don’t be afraid to fail, etc.   I would suggest having a plan of action or business model for how you want to grow your business and how you plan to do it., Stay close to the money and you will gain much more insight on how the business operates  “Pick the people you want to go hunting and fishing with”., , He also mentioned that if an aspiring entrepreneur indeed decided to start a business, make sure he or she communicates the concept with his or her family members in order to prepare for any unforeseen trade-offs that may impact the family relationship negatively.  ,, Having your business plan in place, looked at by someone (other than people who love you), have a very good attorney (an objective one), and having an “up to date” accountant/CPA is very critical – all a must., Having a majority self-ran business is key, having the right systems in place can save you a lot of time and being open to change will allow your business to sustain even in challenging times., , “The top 3 things that I’ve learned from this experience was to always complete your own research, make sure to plan for any derailleurs that may come into play and always build relationships with people who are like minded and can be a resource to help develop me.”  Be patient., , Lesson of contentment – your business may not make a ton of money, but some is better than none. Lesson of stepping out of comfort zone - take calculated risks., , Your customers are people, your employees are people, and your investors are people., Be passionate about the business or venture and see the business as a passion and not only a money-making venture.  , I feel I did not have to chase business growth like I would imagine entrepreneurs do., , Unlike most small business entrepreneurs, my venture was a lot of the right place at the right time and through word of mouth., , My parents helped guide me, but they also had money saved when they started their business and a dual income, so I launched my business at a different level from them.  , , “I wish before we started our business, we had more resources or connections to help make unplanned events easier to handle or deal with.”  , That is not easy, and life will not be easier after starting the business, that owning a business will reduce your freedom, contrary to the concept that you can make your own schedule., , , A business that operates in a busy area with a value-added product needs substantial marketing and advertising to maximize the business’s sales.]\n"
          ]
        }
      ]
    },
    {
      "cell_type": "code",
      "source": [
        "# the code iterates through each sentence in the sentence_tokens list, then iterates through each word in the sentence.\n",
        "#For each word, it checks if its lowercase version is in the word_frequencies dictionary.\n",
        "#If so, it updates the score of the corresponding sentence in the sentence_scores dictionary by adding the word's frequency.\n",
        "# After this loop, sentence_scores contains the cumulative scores for each sentence based on the frequencies of the words they contain.\n",
        "sentence_scores = {}\n",
        "for sent in sentence_tokens:\n",
        "    for word in sent:\n",
        "        if word.text.lower() in word_frequencies.keys():\n",
        "            if sent not in sentence_scores.keys():\n",
        "                sentence_scores[sent] = word_frequencies[word.text.lower()]\n",
        "            else:\n",
        "                sentence_scores[sent] += word_frequencies[word.text.lower()]"
      ],
      "metadata": {
        "id": "kMU91CHB4xzx"
      },
      "execution_count": 17,
      "outputs": []
    },
    {
      "cell_type": "code",
      "source": [
        "#print sentence_scores\n",
        "#In the provided code, the concept of \"sentence score\" refers to a numerical value assigned to each sentence in a document based on the frequency of the words it contains.\n",
        "#The score is calculated by summing up the frequencies of the words in a sentence.\n",
        "sentence_scores"
      ],
      "metadata": {
        "colab": {
          "base_uri": "https://localhost:8080/"
        },
        "id": "UK9otl_P4x2p",
        "outputId": "b14bc2fe-0497-4c9a-8e71-dc2109a3d752"
      },
      "execution_count": 18,
      "outputs": [
        {
          "output_type": "execute_result",
          "data": {
            "text/plain": [
              "{ My next most valuable asset are my employees and established relationships that support my business.: 1.5925925925925926,\n",
              " The ability to think quickly and adapt, and a supportive family Victor Jackson - Above all, I consider myself the most valuable asset; therefore, I good care of myself., Bizarrely out of the box thinker, Considering things from different perspectives  Loves receiving feedback and implementing changes My family legacy and family are the biggest assets in my business.,: 2.9629629629629624,\n",
              " His most valuable asset is his problem-solving ability and the ability to create relationships to support the business.: 1.740740740740741,\n",
              " For an example, I would have creating a business model, that would have aligned me in setting business goals and focus on impacting the market more Jamie stated, “I wouldn’t change a thing.”  , Would not do it again, if I did it again would start online first, overhead costs would be way less, only still open because I own the building Overall, I am happy with the way the business turned out.: 4.851851851851854,\n",
              " , Mr. Kwok responded a solid “yes” and confirmed that he would like to start a business again in the same way if he has more capital and his children are willing to become the successors of the business.  : 3.1111111111111116,\n",
              " She also gave a lot of advice throughout the interview- listen to people, don’t get discouraged, continuously learn, don’t be afraid to fail, etc.   I would suggest having a plan of action or business model for how you want to grow your business and how you plan to do it., Stay close to the money and you will gain much more insight on how the business operates  “Pick the people you want to go hunting and fishing with”.: 5.88888888888889,\n",
              " , He also mentioned that if an aspiring entrepreneur indeed decided to start a business, make sure he or she communicates the concept with his or her family members in order to prepare for any unforeseen trade-offs that may impact the family relationship negatively.  ,: 2.4074074074074074,\n",
              " Having your business plan in place, looked at by someone (other than people who love you), have a very good attorney (an objective one), and having an “up to date” accountant/CPA is very critical – all a must.: 2.592592592592593,\n",
              " Having a majority self-ran business is key, having the right systems in place can save you a lot of time and being open to change will allow your business to sustain even in challenging times.: 3.148148148148149,\n",
              " , “The top 3 things that I’ve learned from this experience was to always complete your own research, make sure to plan for any derailleurs that may come into play and always build relationships with people who are like minded and can be a resource to help develop me.”  Be patient.: 2.0370370370370368,\n",
              " , Lesson of contentment – your business may not make a ton of money, but some is better than none. Lesson of stepping out of comfort zone - take calculated risks.: 1.5555555555555551,\n",
              " , Your customers are people, your employees are people, and your investors are people., Be passionate about the business or venture and see the business as a passion and not only a money-making venture.  : 3.481481481481482,\n",
              " I feel I did not have to chase business growth like I would imagine entrepreneurs do.: 1.333333333333333,\n",
              " , Unlike most small business entrepreneurs, my venture was a lot of the right place at the right time and through word of mouth.: 1.8148148148148149,\n",
              " , My parents helped guide me, but they also had money saved when they started their business and a dual income, so I launched my business at a different level from them.  : 2.851851851851851,\n",
              " , “I wish before we started our business, we had more resources or connections to help make unplanned events easier to handle or deal with.”  , That is not easy, and life will not be easier after starting the business, that owning a business will reduce your freedom, contrary to the concept that you can make your own schedule.: 4.629629629629631,\n",
              " , , A business that operates in a busy area with a value-added product needs substantial marketing and advertising to maximize the business’s sales.: 2.481481481481481}"
            ]
          },
          "metadata": {},
          "execution_count": 18
        }
      ]
    },
    {
      "cell_type": "code",
      "source": [
        "#This part calculates the total number of sentences in the sentence_tokens list.\n",
        "#So, the final value of select_length is 10% (0.1) of the total number of sentences, and it represents the number of sentences that will be selected for summarization.\n",
        "from heapq import nlargest\n",
        "# Selecting 0.01portion of sentences\n",
        "select_length = int(len(sentence_tokens)*0.1)\n",
        "select_length"
      ],
      "metadata": {
        "colab": {
          "base_uri": "https://localhost:8080/"
        },
        "id": "Q-tkxMVv4x57",
        "outputId": "0505aa18-271e-4c71-b0c0-39c1e24777d4"
      },
      "execution_count": 19,
      "outputs": [
        {
          "output_type": "execute_result",
          "data": {
            "text/plain": [
              "1"
            ]
          },
          "metadata": {},
          "execution_count": 19
        }
      ]
    },
    {
      "cell_type": "code",
      "source": [
        "# Generate a summary using the sentences with the highest scores\n",
        "# This line uses the nlargest function from the heapq module to get the top select_length sentences with the highest scores from the sentence_scores dictionary.\n",
        "#select_length: The number of top sentences to select.\n",
        "#sentence_scores: The dictionary containing sentence scores.\n",
        "#key=sentence_scores.get: The key parameter specifies a function of one argument that is used to extract a comparison key from each element in the iterable. In this case, it uses the get method of the sentence_scores dictionary to extract the score of each sentence.\n",
        "## This line uses the nlargest function from the heapq module to get the top select_length sentences with the highest scores from the sentence_scores dictionary.\n",
        "summary = nlargest(select_length, sentence_scores, key = sentence_scores.get)\n",
        "summary"
      ],
      "metadata": {
        "colab": {
          "base_uri": "https://localhost:8080/"
        },
        "id": "KgRpgd474x85",
        "outputId": "266854fb-5161-41fe-f87f-0924ec00a33d"
      },
      "execution_count": 20,
      "outputs": [
        {
          "output_type": "execute_result",
          "data": {
            "text/plain": [
              "[She also gave a lot of advice throughout the interview- listen to people, don’t get discouraged, continuously learn, don’t be afraid to fail, etc.   I would suggest having a plan of action or business model for how you want to grow your business and how you plan to do it., Stay close to the money and you will gain much more insight on how the business operates  “Pick the people you want to go hunting and fishing with”.]"
            ]
          },
          "metadata": {},
          "execution_count": 20
        }
      ]
    },
    {
      "cell_type": "code",
      "source": [
        "text"
      ],
      "metadata": {
        "colab": {
          "base_uri": "https://localhost:8080/",
          "height": 139
        },
        "id": "cZghO47d4yCi",
        "outputId": "4f195d34-13fb-479b-e647-dd69778e4821"
      },
      "execution_count": 22,
      "outputs": [
        {
          "output_type": "execute_result",
          "data": {
            "text/plain": [
              "' My next most valuable asset are my employees and established relationships that support my business. The ability to think quickly and adapt, and a supportive family Victor Jackson - Above all, I consider myself the most valuable asset; therefore, I good care of myself., Bizarrely out of the box thinker, Considering things from different perspectives\\xa0 Loves receiving feedback and implementing changes My family legacy and family are the biggest assets in my business., His most valuable asset is his problem-solving ability and the ability to create relationships to support the business. For an example, I would have creating a business model, that would have aligned me in setting business goals and focus on impacting the market more Jamie stated, “I wouldn’t change a thing.”\\xa0 , Would not do it again, if I did it again would start online first, overhead costs would be way less, only still open because I own the building Overall, I am happy with the way the business turned out., Mr. Kwok responded a solid “yes” and confirmed that he would like to start a business again in the same way if he has more capital and his children are willing to become the successors of the business. \\u202fShe also gave a lot of advice throughout the interview- listen to people, don’t get discouraged, continuously learn, don’t be afraid to fail, etc.\\xa0\\xa0 I would suggest having a plan of action or business model for how you want to grow your business and how you plan to do it., Stay close to the money and you will gain much more insight on how the business operates\\xa0 “Pick the people you want to go hunting and fishing with”., He also mentioned that if an aspiring entrepreneur indeed decided to start a business, make sure he or she communicates the concept with his or her family members in order to prepare for any unforeseen trade-offs that may impact the family relationship negatively.\\xa0 , Having your business plan in place, looked at by someone (other than people who love you), have a very good attorney (an objective one), and having an “up to date” accountant/CPA is very critical – all a must. Having a majority self-ran business is key, having the right systems in place can save you a lot of time and being open to change will allow your business to sustain even in challenging times. , “The top 3 things that I’ve learned from this experience was to always complete your own research, make sure to plan for any derailleurs that may come into play and always build relationships with people who are like minded and can be a resource to help develop me.”\\xa0 Be patient., Lesson of contentment – your business may not make a ton of money, but some is better than none.\\xa0Lesson of stepping out of comfort zone - take calculated risks., Your customers are people, your employees are people, and your investors are people., Be passionate about the business or venture and see the business as a passion and not only a money-making venture.  I feel I did not have to chase business growth like I would imagine entrepreneurs do. , Unlike most small business entrepreneurs, my venture was a lot of the right place at the right time and through word of mouth., My parents helped guide me, but they also had money saved when they started their business and a dual income, so I launched my business at a different level from them.\\xa0 , “I wish before we started our business, we had more resources or connections to help make unplanned events easier to handle or deal with.”\\xa0 , That is not easy, and life will not be easier after starting the business, that owning a business will reduce your freedom, contrary to the concept that you can make your own schedule. , , A business that operates in a busy area with a value-added product needs substantial marketing and advertising to maximize the business’s sales. '"
            ],
            "application/vnd.google.colaboratory.intrinsic+json": {
              "type": "string"
            }
          },
          "metadata": {},
          "execution_count": 22
        }
      ]
    },
    {
      "cell_type": "code",
      "source": [
        "summary"
      ],
      "metadata": {
        "colab": {
          "base_uri": "https://localhost:8080/"
        },
        "id": "SYRj4ALm4yFP",
        "outputId": "8ad51278-088e-4d7b-ef99-81c5a7688abc"
      },
      "execution_count": 23,
      "outputs": [
        {
          "output_type": "execute_result",
          "data": {
            "text/plain": [
              "[She also gave a lot of advice throughout the interview- listen to people, don’t get discouraged, continuously learn, don’t be afraid to fail, etc.   I would suggest having a plan of action or business model for how you want to grow your business and how you plan to do it., Stay close to the money and you will gain much more insight on how the business operates  “Pick the people you want to go hunting and fishing with”.]"
            ]
          },
          "metadata": {},
          "execution_count": 23
        }
      ]
    },
    {
      "cell_type": "code",
      "source": [
        "print(\"Length of the original text\")\n",
        "print(len(text))\n",
        "print(\"Length of the Summary\")\n",
        "print(len(summary))"
      ],
      "metadata": {
        "colab": {
          "base_uri": "https://localhost:8080/"
        },
        "id": "NPJ2LFUE4yH7",
        "outputId": "def82229-ff42-4a81-b334-078d15b2dc1a"
      },
      "execution_count": 24,
      "outputs": [
        {
          "output_type": "stream",
          "name": "stdout",
          "text": [
            "Length of the original text\n",
            "3797\n",
            "Length of the Summary\n",
            "1\n"
          ]
        }
      ]
    },
    {
      "cell_type": "code",
      "source": [],
      "metadata": {
        "id": "CHo5m6ijKP98"
      },
      "execution_count": null,
      "outputs": []
    }
  ]
}